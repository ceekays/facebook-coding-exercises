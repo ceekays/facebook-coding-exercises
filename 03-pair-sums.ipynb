{
 "cells": [
  {
   "cell_type": "markdown",
   "id": "c649ad3f-f037-4e01-8f92-0e96c53c5cf2",
   "metadata": {},
   "source": [
    "# Pair Sums\n",
    "\n",
    "Given a list of n integers $arr[0 ... (n-1)]$, determine the number of different pairs of elements within it which sum to $k$.\n",
    "\n",
    "If an integer appears in the list multiple times, each copy is considered to be different; that is, two pairs are considered different if one pair includes at least one array index which the other doesn't, even if they include the same values.\n",
    "\n",
    "### Signature\n",
    "\n",
    "```python\n",
    "int numberOfWays(int[] arr, int k)\n",
    "```\n",
    "### Input\n",
    "\n",
    "n is in the range [1, 100,000].\n",
    "\n",
    "Each value arr[i] is in the range [1, 1,000,000,000].\n",
    "\n",
    "k is in the range [1, 1,000,000,000].\n",
    "\n",
    "### Output\n",
    "\n",
    "Return the number of different pairs of elements which sum to k.\n",
    "\n",
    "### Example 1\n",
    "\n",
    "```python\n",
    "n = 5\n",
    "k = 6\n",
    "arr = [1, 2, 3, 4, 3]\n",
    "output = 2\n",
    "```\n",
    "The valid pairs are $2+4$ and $3+3$.\n",
    "\n",
    "### Example 2\n",
    "\n",
    "```python\n",
    "n = 5\n",
    "k = 6\n",
    "arr = [1, 5, 3, 3, 3]\n",
    "output = 4\n",
    "```\n",
    "\n",
    "There's one valid pair $1+5$, and three different valid pairs $3+3$ (the 3rd and 4th elements, 3rd and 5th elements, and 4th and 5th elements)."
   ]
  },
  {
   "cell_type": "markdown",
   "id": "c0291770-c19d-4217-bc27-c2cf1d0ab375",
   "metadata": {},
   "source": [
    "# Solution"
   ]
  },
  {
   "cell_type": "code",
   "execution_count": 1,
   "id": "5fa6cec4-5aaa-4d51-93aa-d9990937b186",
   "metadata": {},
   "outputs": [
    {
     "name": "stdout",
     "output_type": "stream",
     "text": [
      "✓Test #1\n",
      "✓Test #2\n"
     ]
    }
   ],
   "source": [
    "# Add any extra import statements you may need here\n",
    "\n",
    "\n",
    "# Add any helper functions you may need here\n",
    "\n",
    "def numberOfWays(arr, k):\n",
    "    pair_sum = []\n",
    "    # print(arr)\n",
    "    for index, val in enumerate(arr):\n",
    "        value = k - val\n",
    "        pair = [[val, value] for a in arr[index + 1:] if a == value]\n",
    "        # print(pair)\n",
    "        if pair:\n",
    "            pair_sum.extend(pair)\n",
    "            # print(pair_sum)\n",
    "    return len(pair_sum)\n",
    "\n",
    "\n",
    "# These are the tests we use to determine if the solution is correct.\n",
    "# You can add your own at the bottom.\n",
    "\n",
    "def printInteger(n):\n",
    "    print('[', n, ']', sep='', end='')\n",
    "\n",
    "\n",
    "test_case_number = 1\n",
    "\n",
    "\n",
    "def check(expected, output):\n",
    "    global test_case_number\n",
    "    result = False\n",
    "    if expected == output:\n",
    "        result = True\n",
    "    rightTick = '\\u2713'\n",
    "    wrongTick = '\\u2717'\n",
    "    if result:\n",
    "        print(rightTick, 'Test #', test_case_number, sep='')\n",
    "    else:\n",
    "        print(wrongTick, 'Test #', test_case_number, ': Expected ', sep='', end='')\n",
    "        printInteger(expected)\n",
    "        print(' Your output: ', end='')\n",
    "        printInteger(output)\n",
    "        print()\n",
    "    test_case_number += 1\n",
    "\n",
    "\n",
    "if __name__ == \"__main__\":\n",
    "    k_1 = 6\n",
    "    arr_1 = [1, 2, 3, 4, 3]\n",
    "    expected_1 = 2\n",
    "    output_1 = numberOfWays(arr_1, k_1)\n",
    "    check(expected_1, output_1)\n",
    "\n",
    "    k_2 = 6\n",
    "    arr_2 = [1, 5, 3, 3, 3]\n",
    "    expected_2 = 4\n",
    "    output_2 = numberOfWays(arr_2, k_2)\n",
    "    check(expected_2, output_2)\n",
    "\n",
    "    # Add your own test cases here"
   ]
  },
  {
   "cell_type": "code",
   "execution_count": null,
   "id": "26d61109-c8a2-45a2-9b12-7badcd0b8120",
   "metadata": {},
   "outputs": [],
   "source": []
  }
 ],
 "metadata": {
  "kernelspec": {
   "display_name": "Python 3 (ipykernel)",
   "language": "python",
   "name": "python3"
  },
  "language_info": {
   "codemirror_mode": {
    "name": "ipython",
    "version": 3
   },
   "file_extension": ".py",
   "mimetype": "text/x-python",
   "name": "python",
   "nbconvert_exporter": "python",
   "pygments_lexer": "ipython3",
   "version": "3.7.10"
  }
 },
 "nbformat": 4,
 "nbformat_minor": 5
}
