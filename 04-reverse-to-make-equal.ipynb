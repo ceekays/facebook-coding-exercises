{
 "cells": [
  {
   "cell_type": "markdown",
   "id": "e16bbd3e-fadd-4208-af6d-ce48d63af0f7",
   "metadata": {},
   "source": [
    "# Reverse to Make Equal\n",
    "\n",
    "Given two arrays **A** and **B** of length N, determine if there is a way to make **A** equal to **B** by reversing any subarrays from array **B** any number of times.\n",
    "\n",
    "### Signature\n",
    "\n",
    "bool areTheyEqual(int[] arr_a, int[] arr_b)\n",
    "\n",
    "### Input\n",
    "\n",
    "All integers in array are in the range [0, 1,000,000,000].\n",
    "\n",
    "### Output\n",
    "\n",
    "Return true if **B** can be made equal to **A**, return false otherwise.\n",
    "\n",
    "### Example\n",
    "\n",
    "```python\n",
    "A = [1, 2, 3, 4]\n",
    "B = [1, 4, 3, 2]\n",
    "output = true\n",
    "```\n",
    "After reversing the subarray of **B** from indices 1 to 3, array B will equal array **A**."
   ]
  },
  {
   "cell_type": "code",
   "execution_count": 1,
   "id": "b67c52f4-f397-4e55-8374-73f2e93d773b",
   "metadata": {},
   "outputs": [
    {
     "name": "stdout",
     "output_type": "stream",
     "text": [
      "✓Test #1\n",
      "✓Test #2\n"
     ]
    }
   ],
   "source": [
    "# Add any extra import statements you may need here\n",
    "\n",
    "\n",
    "# Add any helper functions you may need here\n",
    "\n",
    "\n",
    "def are_they_equal(array_a, array_b):\n",
    "    counter = {i: array_a.count(i) for i in set(array_a)}\n",
    "    # print(counter)\n",
    "    for val in array_b:\n",
    "        counter[val] = counter.get(val, 0) - 1\n",
    "    # print(counter)\n",
    "    return not list(filter(lambda x: x != 0, counter.values()))\n",
    "\n",
    "\n",
    "# Write your code here\n",
    "\n",
    "\n",
    "# These are the tests we use to determine if the solution is correct.\n",
    "# You can add your own at the bottom.\n",
    "def printString(string):\n",
    "    print('[\\\"', string, '\\\"]', sep='', end='')\n",
    "\n",
    "\n",
    "test_case_number = 1\n",
    "\n",
    "\n",
    "def check(expected, output):\n",
    "    global test_case_number\n",
    "    result = False\n",
    "    if expected == output:\n",
    "        result = True\n",
    "    rightTick = '\\u2713'\n",
    "    wrongTick = '\\u2717'\n",
    "    if result:\n",
    "        print(rightTick, 'Test #', test_case_number, sep='')\n",
    "    else:\n",
    "        print(wrongTick, 'Test #', test_case_number, ': Expected ', sep='', end='')\n",
    "        printString(expected)\n",
    "        print(' Your output: ', end='')\n",
    "        printString(output)\n",
    "        print()\n",
    "    test_case_number += 1\n",
    "\n",
    "\n",
    "if __name__ == \"__main__\":\n",
    "    n_1 = 4\n",
    "    a_1 = [1, 2, 3, 4]\n",
    "    b_1 = [1, 4, 3, 2]\n",
    "    expected_1 = True\n",
    "    output_1 = are_they_equal(a_1, b_1)\n",
    "    check(expected_1, output_1)\n",
    "\n",
    "    n_2 = 4\n",
    "    a_2 = [1, 2, 3, 4]\n",
    "    b_2 = [1, 2, 3, 5]\n",
    "    expected_2 = False\n",
    "    output_2 = are_they_equal(a_2, b_2)\n",
    "    check(expected_2, output_2)\n",
    "\n",
    "    # Add your own test cases here"
   ]
  },
  {
   "cell_type": "code",
   "execution_count": null,
   "id": "a580a3e6-f1c6-4ce7-bfb5-721c2bbf0f11",
   "metadata": {},
   "outputs": [],
   "source": []
  }
 ],
 "metadata": {
  "kernelspec": {
   "display_name": "Python 3 (ipykernel)",
   "language": "python",
   "name": "python3"
  },
  "language_info": {
   "codemirror_mode": {
    "name": "ipython",
    "version": 3
   },
   "file_extension": ".py",
   "mimetype": "text/x-python",
   "name": "python",
   "nbconvert_exporter": "python",
   "pygments_lexer": "ipython3",
   "version": "3.7.10"
  }
 },
 "nbformat": 4,
 "nbformat_minor": 5
}
